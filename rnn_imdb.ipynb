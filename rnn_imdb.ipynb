{
  "nbformat": 4,
  "nbformat_minor": 0,
  "metadata": {
    "colab": {
      "name": "RNN_imdb.ipynb",
      "provenance": [],
      "collapsed_sections": [],
      "authorship_tag": "ABX9TyN3WERnJkHoj9YLtsaPL65t",
      "include_colab_link": true
    },
    "kernelspec": {
      "display_name": "Python 3",
      "name": "python3"
    },
    "language_info": {
      "name": "python"
    }
  },
  "cells": [
    {
      "cell_type": "markdown",
      "metadata": {
        "id": "view-in-github",
        "colab_type": "text"
      },
      "source": [
        "<a href=\"https://colab.research.google.com/gist/Yashwanth1102/06ec1ffe5356829f9a3b1434613e0667/rnn_imdb.ipynb\" target=\"_parent\"><img src=\"https://colab.research.google.com/assets/colab-badge.svg\" alt=\"Open In Colab\"/></a>"
      ]
    },
    {
      "cell_type": "code",
      "metadata": {
        "colab": {
          "base_uri": "https://localhost:8080/"
        },
        "id": "jfmQVMBPedgR",
        "outputId": "d43dbc70-08e0-4c65-feae-570b0acb3eb8"
      },
      "source": [
        "import numpy as np\n",
        "import matplotlib.pyplot as plt\n",
        "import tensorflow as tf\n",
        "from tensorflow.keras.datasets import imdb\n",
        "from tensorflow.keras.preprocessing.sequence import pad_sequences\n",
        "from tensorflow.keras import Sequential\n",
        "from tensorflow.keras.layers import LSTM, Dropout, Dense, Embedding, SimpleRNN\n",
        "\n",
        "\n",
        "\n",
        "(x_train, y_train), (x_test, y_test) = imdb.load_data(num_words = 20000)\n",
        "\n",
        "\n",
        "print(x_train.shape)\n",
        "\n",
        "\n",
        "x_train = pad_sequences(x_train, maxlen = 100)\n",
        "x_test = pad_sequences(x_test, maxlen=100)\n",
        "\n",
        "#print(x_train)\n",
        "vocab_size=20000\n",
        "batch_size=128\n",
        "\n",
        "model = Sequential()\n",
        "model.add(Embedding(vocab_size, batch_size, input_shape = (x_train.shape[1],)))\n",
        "#model.add(SimpleRNN(64))\n",
        "model.add(LSTM(units=60, activation='tanh'))\n",
        "model.add(Dense(units=1, activation='sigmoid'))\n",
        "\n",
        "model.compile(optimizer='adam', loss='binary_crossentropy', metrics = ['accuracy'])\n",
        "\n",
        "history = model.fit(x_train, y_train, epochs=5, batch_size=batch_size)#, validation_data=(x_test, y_test))\n",
        "\n",
        "#history.history\n",
        "score = model.evaluate(x_test, y_test) \n",
        "print('Test loss:', score[0]) \n",
        "print('Test accuracy:', score[1])\n",
        "\n",
        "predictions = model.predict([x_test])\n",
        "print(predictions[0])\n",
        "\n",
        "#print(np.argmax(predictions[0]))\n",
        "\n",
        "print(x_test[0])\n"
      ],
      "execution_count": null,
      "outputs": [
        {
          "output_type": "stream",
          "text": [
            "<string>:6: VisibleDeprecationWarning: Creating an ndarray from ragged nested sequences (which is a list-or-tuple of lists-or-tuples-or ndarrays with different lengths or shapes) is deprecated. If you meant to do this, you must specify 'dtype=object' when creating the ndarray\n",
            "/usr/local/lib/python3.7/dist-packages/tensorflow/python/keras/datasets/imdb.py:155: VisibleDeprecationWarning: Creating an ndarray from ragged nested sequences (which is a list-or-tuple of lists-or-tuples-or ndarrays with different lengths or shapes) is deprecated. If you meant to do this, you must specify 'dtype=object' when creating the ndarray\n",
            "  x_train, y_train = np.array(xs[:idx]), np.array(labels[:idx])\n",
            "/usr/local/lib/python3.7/dist-packages/tensorflow/python/keras/datasets/imdb.py:156: VisibleDeprecationWarning: Creating an ndarray from ragged nested sequences (which is a list-or-tuple of lists-or-tuples-or ndarrays with different lengths or shapes) is deprecated. If you meant to do this, you must specify 'dtype=object' when creating the ndarray\n",
            "  x_test, y_test = np.array(xs[idx:]), np.array(labels[idx:])\n"
          ],
          "name": "stderr"
        },
        {
          "output_type": "stream",
          "text": [
            "(25000,)\n",
            "Epoch 1/5\n",
            "196/196 [==============================] - 43s 210ms/step - loss: 0.4314 - accuracy: 0.7952\n",
            "Epoch 2/5\n",
            "196/196 [==============================] - 41s 210ms/step - loss: 0.2313 - accuracy: 0.9114\n",
            "Epoch 3/5\n",
            "196/196 [==============================] - 41s 209ms/step - loss: 0.1467 - accuracy: 0.9472\n",
            "Epoch 4/5\n",
            "196/196 [==============================] - 41s 209ms/step - loss: 0.0957 - accuracy: 0.9676\n",
            "Epoch 5/5\n",
            "196/196 [==============================] - 41s 211ms/step - loss: 0.0617 - accuracy: 0.9799\n",
            "782/782 [==============================] - 14s 17ms/step - loss: 0.6089 - accuracy: 0.8297\n",
            "Test loss: 0.6088861227035522\n",
            "Test accuracy: 0.8296800255775452\n",
            "[0.3053046]\n",
            "[    0     0     0     0     0     0     0     0     0     0     0     0\n",
            "     0     0     0     0     0     0     0     0     0     0     0     0\n",
            "     0     0     0     0     0     0     0     0     1   591   202    14\n",
            "    31     6   717    10    10 18142 10698     5     4   360     7     4\n",
            "   177  5760   394   354     4   123     9  1035  1035  1035    10    10\n",
            "    13    92   124    89   488  7944   100    28  1668    14    31    23\n",
            "    27  7479    29   220   468     8   124    14   286   170     8   157\n",
            "    46     5    27   239    16   179 15387    38    32    25  7944   451\n",
            "   202    14     6   717]\n"
          ],
          "name": "stdout"
        }
      ]
    }
  ]
}